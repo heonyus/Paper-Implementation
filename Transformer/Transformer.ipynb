{
 "cells": [
  {
   "cell_type": "markdown",
   "metadata": {},
   "source": [
    "# Transformer"
   ]
  },
  {
   "cell_type": "code",
   "execution_count": null,
   "metadata": {},
   "outputs": [],
   "source": [
    "class Transformer(nn.Module):\n",
    "\n",
    "    def __init__(self, encoder, decoder):\n",
    "        super(Transformer, self).__init__()\n",
    "        self.encoder = encoder\n",
    "        self.decoder = decoder\n",
    "\n",
    "\n",
    "    def encode(self, x):\n",
    "        out = self.encoder(x)\n",
    "        return out\n",
    "\n",
    "\n",
    "    def decode(self, z, c):\n",
    "        out = self.decode(z, c)\n",
    "        return out\n",
    "\n",
    "\n",
    "    def forward(self, x, z):\n",
    "        c = self.encode(x)\n",
    "        y = self.decode(z, c)\n",
    "        return y"
   ]
  }
 ],
 "metadata": {
  "kernelspec": {
   "display_name": "torch",
   "language": "python",
   "name": "torch"
  },
  "language_info": {
   "name": "python",
   "version": "3.9.13"
  },
  "orig_nbformat": 4
 },
 "nbformat": 4,
 "nbformat_minor": 2
}
